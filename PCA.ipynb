{
 "cells": [
  {
   "cell_type": "markdown",
   "metadata": {},
   "source": [
    "PCA\n",
    "\n",
    "El método de Análisis de Componentes Principales nos ayuda a determinar las direcciones de mayor crecimiento o mayor evolución de un sistema de variables en un espacio de n dimensiones.\n",
    "Para esto se requieren las variables a determinar su PCA.\n",
    " "
   ]
  },
  {
   "cell_type": "code",
   "execution_count": 41,
   "metadata": {},
   "outputs": [
    {
     "data": {
      "text/html": [
       "<div>\n",
       "<style scoped>\n",
       "    .dataframe tbody tr th:only-of-type {\n",
       "        vertical-align: middle;\n",
       "    }\n",
       "\n",
       "    .dataframe tbody tr th {\n",
       "        vertical-align: top;\n",
       "    }\n",
       "\n",
       "    .dataframe thead th {\n",
       "        text-align: right;\n",
       "    }\n",
       "</style>\n",
       "<table border=\"1\" class=\"dataframe\">\n",
       "  <thead>\n",
       "    <tr style=\"text-align: right;\">\n",
       "      <th></th>\n",
       "      <th>v</th>\n",
       "      <th>x</th>\n",
       "      <th>s</th>\n",
       "    </tr>\n",
       "  </thead>\n",
       "  <tbody>\n",
       "    <tr>\n",
       "      <th>0</th>\n",
       "      <td>1</td>\n",
       "      <td>5</td>\n",
       "      <td>12</td>\n",
       "    </tr>\n",
       "    <tr>\n",
       "      <th>1</th>\n",
       "      <td>2</td>\n",
       "      <td>6</td>\n",
       "      <td>13</td>\n",
       "    </tr>\n",
       "    <tr>\n",
       "      <th>2</th>\n",
       "      <td>3</td>\n",
       "      <td>7</td>\n",
       "      <td>14</td>\n",
       "    </tr>\n",
       "    <tr>\n",
       "      <th>3</th>\n",
       "      <td>4</td>\n",
       "      <td>8</td>\n",
       "      <td>15</td>\n",
       "    </tr>\n",
       "  </tbody>\n",
       "</table>\n",
       "</div>"
      ],
      "text/plain": [
       "   v  x   s\n",
       "0  1  5  12\n",
       "1  2  6  13\n",
       "2  3  7  14\n",
       "3  4  8  15"
      ]
     },
     "execution_count": 41,
     "metadata": {},
     "output_type": "execute_result"
    }
   ],
   "source": [
    "import pandas as pd\n",
    "import numpy as np\n",
    "\n",
    "#Si queremos capturar los datos desde terminal\n",
    "#Definimos una función \n",
    "\n",
    "h = input(\"Determina los encabezados separados por comas: \")\n",
    "headers = h.split(',')    # Encabezados del dataframe\n",
    "n = int(input(\"Determiname el numero de datos que tienen las variables: \"))\n",
    "    \n",
    "\n",
    "def matriz(headers, n):\n",
    "    data = pd.DataFrame(np.zeros((n,len(headers))), columns=headers[:])\n",
    "    #Solicitar al usuario ingresar los datos para cada header\n",
    "    for encabezado in headers[:]: data[encabezado] = [int(input(f\"Ingrese el dato para {encabezado} en la fila {i + 1}: \")) for i in range(n)]\n",
    "    \n",
    "    return data\n",
    "\n",
    "matriz(headers,n)\n",
    "\n"
   ]
  },
  {
   "cell_type": "code",
   "execution_count": 87,
   "metadata": {},
   "outputs": [
    {
     "name": "stdout",
     "output_type": "stream",
     "text": [
      "   v  x   s\n",
      "0  1  5   1\n",
      "1  2  6  11\n",
      "2  3  7  12\n",
      "3  4  8  13\n"
     ]
    }
   ],
   "source": [
    "#Calculamos los vectores centrados:\n",
    "med = np.zeros(len(headers))\n",
    "data = matriz(headers,n)\n",
    "datos_centrados = pd.DataFrame(np.zeros((n,len(headers))))\n",
    "#medias = pd.DataFrame(matriz(headers,n), columns = headers[:])\n",
    "print(data)\n",
    "\n",
    "\n"
   ]
  },
  {
   "cell_type": "markdown",
   "metadata": {},
   "source": []
  },
  {
   "cell_type": "code",
   "execution_count": 89,
   "metadata": {},
   "outputs": [
    {
     "name": "stdout",
     "output_type": "stream",
     "text": [
      "     0    1     2\n",
      "0 -1.5 -1.5 -8.25\n",
      "1 -0.5 -0.5  1.75\n",
      "2  0.5  0.5  2.75\n",
      "3  1.5  1.5  3.75\n"
     ]
    }
   ],
   "source": [
    "med = data.mean(axis = 0)\n",
    "for i in range(0,len(headers),1): \n",
    "    datos_centrados.iloc[:,i] = data.iloc[:,i]-med[i] \n",
    "print(datos_centrados)\n",
    "\n"
   ]
  }
 ],
 "metadata": {
  "kernelspec": {
   "display_name": "base",
   "language": "python",
   "name": "python3"
  },
  "language_info": {
   "codemirror_mode": {
    "name": "ipython",
    "version": 3
   },
   "file_extension": ".py",
   "mimetype": "text/x-python",
   "name": "python",
   "nbconvert_exporter": "python",
   "pygments_lexer": "ipython3",
   "version": "3.9.13"
  }
 },
 "nbformat": 4,
 "nbformat_minor": 2
}
