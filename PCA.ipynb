{
 "cells": [
  {
   "cell_type": "markdown",
   "metadata": {},
   "source": [
    "PCA\n",
    "\n",
    "El método de Análisis de Componentes Principales nos ayuda a determinar las direcciones de mayor crecimiento o mayor evolución de un sistema de variables en un espacio de n dimensiones.\n",
    "Para esto se requieren las variables a determinar su PCA.\n",
    " "
   ]
  },
  {
   "cell_type": "code",
   "execution_count": 7,
   "metadata": {},
   "outputs": [
    {
     "name": "stdout",
     "output_type": "stream",
     "text": [
      "   x1  x2  x3\n",
      "0   1   4   7\n",
      "1   2   5   8\n",
      "2   3   6   9\n"
     ]
    }
   ],
   "source": [
    "import pandas as pd\n",
    "import numpy as np\n",
    "\n",
    "#Si queremos capturar los datos desde terminal\n",
    "#Definimos una función \n",
    "\n",
    "h = input(\"Determina los encabezados separados por comas: \")\n",
    "headers = h.split(',')    # Encabezados del dataframe\n",
    "n = int(input(\"Determiname el numero de datos que tienen las variables: \"))\n",
    "    \n",
    "\n",
    "def matriz(headers, n):\n",
    "    data = pd.DataFrame(np.zeros((n,len(headers))), columns=headers[:])\n",
    "    #Solicitar al usuario ingresar los datos para cada header\n",
    "    for encabezado in headers[:]: data[encabezado] = [int(input(f\"Ingrese el dato para {encabezado} en la fila {i + 1}: \")) for i in range(n)]\n",
    "    \n",
    "    return data\n",
    "\n",
    "data = pd.DataFrame(matriz(headers,n))\n",
    "\n"
   ]
  },
  {
   "cell_type": "code",
   "execution_count": 19,
   "metadata": {},
   "outputs": [
    {
     "name": "stdout",
     "output_type": "stream",
     "text": [
      "   x1  x2  x3\n",
      "0   1   4   7\n",
      "1   2   5   8\n",
      "2   3   6   9\n"
     ]
    }
   ],
   "source": [
    "print(data)"
   ]
  },
  {
   "cell_type": "markdown",
   "metadata": {},
   "source": [
    "Tenemos dos metodos para calcular el PCA.\n",
    "\n",
    "1.- Método basado en la matriz de correlación, cuando los datos no son dimensionalmente homogéneos o el orden de magnitud de las variables aleatorias medidas no es el mismo.\n",
    "\n",
    "2.- Método basado en la matriz de covarianzas, que se usa cuando los datos son dimensionalmente homogenéos y presentan valores medios similares.\n",
    "\n",
    "La diferencia entre la matriz de correlación y la matriz de covarianzas es que la matriz de correlación esta normalizada y define la fuerza de correlación entre variables dado un intervalo entre [1,-1] donde 1 representa una perfecta correlación (relacion directamente proporcional), -1 una perfecta correlación negativa (relacion inversamente proporcional). Valores cercanos a 0 implican una correlación débil.\n",
    "\n"
   ]
  },
  {
   "cell_type": "code",
   "execution_count": 22,
   "metadata": {},
   "outputs": [
    {
     "name": "stdout",
     "output_type": "stream",
     "text": [
      "las medias son: x1    2.0\n",
      "x2    5.0\n",
      "x3    8.0\n",
      "dtype: float64 y la matriz centralizada es:      0    1    2\n",
      "0 -1.0 -1.0 -1.0\n",
      "1  0.0  0.0  0.0\n",
      "2  1.0  1.0  1.0\n"
     ]
    }
   ],
   "source": [
    "#Calculamos los vectores centrados:\n",
    "med = np.zeros(len(headers))\n",
    "datos_centrados = pd.DataFrame(np.zeros((n,len(headers))))\n",
    "med = data.mean(axis = 0)\n",
    "for i in range(0,len(headers),1): \n",
    "    datos_centrados.iloc[:,i] = data.iloc[:,i]-med[i] \n",
    "print(f\"las medias son: {med} y la matriz centralizada es: {datos_centrados}\")\n",
    "\n"
   ]
  },
  {
   "cell_type": "markdown",
   "metadata": {},
   "source": [
    "Se calculo los factores $(x_{i}^{1}-E[x^{1}])$, $(x_{i}^{2}-E[x^{2}])$ y $(x_{i}^{3}-E[x^{3}])$ donde los supraindices denotan las correspondientes variables y los subinidices los datos correspondientes a la variable $x^{n}$\n",
    "La matriz de covarianza esta dada por:\n",
    "\n",
    "\n",
    "$cov(x,y) = E[(x-E[x])(y-E[y])]$\n",
    "\n",
    "a partir de los factores calculamos la matriz."
   ]
  },
  {
   "cell_type": "code",
   "execution_count": 18,
   "metadata": {},
   "outputs": [
    {
     "name": "stdout",
     "output_type": "stream",
     "text": [
      "     0    1    2\n",
      "0  1.0 -0.0 -1.0\n",
      "1 -0.0  0.0  0.0\n",
      "2 -1.0  0.0  1.0\n"
     ]
    }
   ],
   "source": [
    "matriz_covarianza = pd.DataFrame([datos_centrados.iloc[:,j]*datos_centrados.iloc[j,:] for j in range(0,n,1)])\n",
    "\n",
    "print(matriz_covarianza)\n",
    "\n"
   ]
  },
  {
   "cell_type": "markdown",
   "metadata": {},
   "source": [
    "La libreria Numpy maneja una función para calcular la matriz de covarianza a partir de un conjunto de datos, tenemos los siguientes argumentos:\n",
    "\n",
    "**np.cov(data, y = None, rovwar = True, bias = False. ddof = None, fweights = None, aweights = None, * , dtype = None)**\n",
    "\n",
    "|**data** : array unidimensional o bidimensional, cada fila de **data** representa una variable y cada columna una sola opservacion de esas variables.\n",
    "\n",
    "|**y** : un set adicional de variables y observaciones, **y** tiene que tener la misma dimension o forma que **data**\n",
    "\n",
    "|**rowvar** : si **rowvar** es *True* (default) , entonces cada fila representa una variable, con las observaciones en las columnas, en dado caso de que esten transpuestos los datos con respecto a esta referencia, seria *False*\n",
    "\n",
    "|**bias** : *normalización* por default (*False*) es **(N-1)**, donde N es el numero de observaciones dadas (estimación no sesgada), Sí **bias** es *True*, entonces la normalizacion es por *N*, esos valores pueden ser anulados."
   ]
  },
  {
   "cell_type": "code",
   "execution_count": 17,
   "metadata": {},
   "outputs": [
    {
     "name": "stdout",
     "output_type": "stream",
     "text": [
      "[[6. 6. 6.]\n",
      " [6. 6. 6.]\n",
      " [6. 6. 6.]]\n"
     ]
    }
   ],
   "source": [
    "mcov = np.cov(data, bias = True)\n",
    "print(mcov)"
   ]
  },
  {
   "cell_type": "code",
   "execution_count": null,
   "metadata": {},
   "outputs": [],
   "source": []
  }
 ],
 "metadata": {
  "kernelspec": {
   "display_name": "base",
   "language": "python",
   "name": "python3"
  },
  "language_info": {
   "codemirror_mode": {
    "name": "ipython",
    "version": 3
   },
   "file_extension": ".py",
   "mimetype": "text/x-python",
   "name": "python",
   "nbconvert_exporter": "python",
   "pygments_lexer": "ipython3",
   "version": "3.9.13"
  }
 },
 "nbformat": 4,
 "nbformat_minor": 2
}
